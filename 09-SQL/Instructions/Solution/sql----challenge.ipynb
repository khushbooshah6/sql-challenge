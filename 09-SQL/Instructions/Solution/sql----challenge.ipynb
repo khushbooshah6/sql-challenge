{
 "cells": [
  {
   "cell_type": "code",
   "execution_count": null,
   "metadata": {},
   "outputs": [],
   "source": [
    "import pandas as pd\n",
    "Import SQL Alchemy\n",
    "from sqlalchemy import create_engine\n",
    "from config import sqlpass\n",
    "import matplotlib.pyplot as plt\n",
    "import numpy as np\n",
    "from matplotlib import colors\n",
    "from matplotlib.ticker import PercentFormatter\n",
    "#import mysql.connector"
   ]
  },
  {
   "cell_type": "code",
   "execution_count": null,
   "metadata": {},
   "outputs": [],
   "source": [
    "dbConnString = \"postgres://postgres:{}@khushbooshah.us:781/mystery_db\".format(sqlpass)"
   ]
  },
  {
   "cell_type": "code",
   "execution_count": 7,
   "metadata": {},
   "outputs": [],
   "source": [
    "# Create Database Connection\n",
    "# ----------------------------------\n",
    "# Establish Connection\n",
    "engine = create_engine(dbConnString)\n",
    "dbconn = engine.connect()"
   ]
  },
  {
   "cell_type": "code",
   "execution_count": 9,
   "metadata": {},
   "outputs": [],
   "source": [
    "salaries=pd.read_sql_query('''select emp_no as \"Employee Number\", salary as \"Salary\" from salaries''',dbconn)"
   ]
  },
  {
   "cell_type": "code",
   "execution_count": 10,
   "metadata": {},
   "outputs": [
    {
     "data": {
      "text/html": [
       "<div>\n",
       "<style scoped>\n",
       "    .dataframe tbody tr th:only-of-type {\n",
       "        vertical-align: middle;\n",
       "    }\n",
       "\n",
       "    .dataframe tbody tr th {\n",
       "        vertical-align: top;\n",
       "    }\n",
       "\n",
       "    .dataframe thead th {\n",
       "        text-align: right;\n",
       "    }\n",
       "</style>\n",
       "<table border=\"1\" class=\"dataframe\">\n",
       "  <thead>\n",
       "    <tr style=\"text-align: right;\">\n",
       "      <th></th>\n",
       "      <th>Employee Number</th>\n",
       "      <th>Salary</th>\n",
       "    </tr>\n",
       "  </thead>\n",
       "  <tbody>\n",
       "    <tr>\n",
       "      <th>0</th>\n",
       "      <td>10001</td>\n",
       "      <td>60117</td>\n",
       "    </tr>\n",
       "    <tr>\n",
       "      <th>1</th>\n",
       "      <td>10002</td>\n",
       "      <td>65828</td>\n",
       "    </tr>\n",
       "    <tr>\n",
       "      <th>2</th>\n",
       "      <td>10003</td>\n",
       "      <td>40006</td>\n",
       "    </tr>\n",
       "    <tr>\n",
       "      <th>3</th>\n",
       "      <td>10004</td>\n",
       "      <td>40054</td>\n",
       "    </tr>\n",
       "    <tr>\n",
       "      <th>4</th>\n",
       "      <td>10005</td>\n",
       "      <td>78228</td>\n",
       "    </tr>\n",
       "    <tr>\n",
       "      <th>...</th>\n",
       "      <td>...</td>\n",
       "      <td>...</td>\n",
       "    </tr>\n",
       "    <tr>\n",
       "      <th>199995</th>\n",
       "      <td>299971</td>\n",
       "      <td>40000</td>\n",
       "    </tr>\n",
       "    <tr>\n",
       "      <th>199996</th>\n",
       "      <td>299972</td>\n",
       "      <td>84832</td>\n",
       "    </tr>\n",
       "    <tr>\n",
       "      <th>199997</th>\n",
       "      <td>299973</td>\n",
       "      <td>63007</td>\n",
       "    </tr>\n",
       "    <tr>\n",
       "      <th>199998</th>\n",
       "      <td>299974</td>\n",
       "      <td>40000</td>\n",
       "    </tr>\n",
       "    <tr>\n",
       "      <th>199999</th>\n",
       "      <td>299975</td>\n",
       "      <td>73561</td>\n",
       "    </tr>\n",
       "  </tbody>\n",
       "</table>\n",
       "<p>200000 rows × 2 columns</p>\n",
       "</div>"
      ],
      "text/plain": [
       "       Employee Number Salary\n",
       "0                10001  60117\n",
       "1                10002  65828\n",
       "2                10003  40006\n",
       "3                10004  40054\n",
       "4                10005  78228\n",
       "...                ...    ...\n",
       "199995          299971  40000\n",
       "199996          299972  84832\n",
       "199997          299973  63007\n",
       "199998          299974  40000\n",
       "199999          299975  73561\n",
       "\n",
       "[200000 rows x 2 columns]"
      ]
     },
     "execution_count": 10,
     "metadata": {},
     "output_type": "execute_result"
    }
   ],
   "source": [
    "salaries"
   ]
  },
  {
   "cell_type": "code",
   "execution_count": null,
   "metadata": {},
   "outputs": [],
   "source": [
    "#Create a histogram to visualize the most common salary ranges for employees.\n",
    "Bins = np.arange(salaries.Salary.astype(int).min()-10000,salaries.Salary.astype(int).max()+10000,10000)\n",
    "labels=['30000-40000','40000-50000','50000-60000','60000-70000','70000-80000','80000-90000','90000-100000','100000-110000','110000-120000','120000-130000']\n",
    "Analysis=pd.DataFrame({\"Salary\":salaries[\"Salary\"].astype(int)})\n",
    "Analysis[\"Salary Range\"]=pd.cut(Analysis[\"Salary\"],Bins,labels=labels,right=True)\n",
    "Histogram=Analysis.hist()\n",
    "for b in Histogram.flatten():\n",
    "    b.set_xlabel(\"Salary Amount\")\n",
    "    b.set_ylabel(\"Salary Range\")\n",
    "    b.set_title(\"Analysis\")"
   ]
  },
  {
   "cell_type": "code",
   "execution_count": 32,
   "metadata": {},
   "outputs": [],
   "source": [
    "#Create a bar chart of average salary by title.\n",
    "ByTitle=pd.read_sql_query('''select t.emp_no as \"EmployeeNo\",t.title as \"Title\",s.salary as \"Salary\" \n",
    "from titles t join salaries s on t.emp_no=s.emp_no''',dbconn)"
   ]
  },
  {
   "cell_type": "code",
   "execution_count": 69,
   "metadata": {},
   "outputs": [
    {
     "data": {
      "text/html": [
       "<div>\n",
       "<style scoped>\n",
       "    .dataframe tbody tr th:only-of-type {\n",
       "        vertical-align: middle;\n",
       "    }\n",
       "\n",
       "    .dataframe tbody tr th {\n",
       "        vertical-align: top;\n",
       "    }\n",
       "\n",
       "    .dataframe thead th {\n",
       "        text-align: right;\n",
       "    }\n",
       "</style>\n",
       "<table border=\"1\" class=\"dataframe\">\n",
       "  <thead>\n",
       "    <tr style=\"text-align: right;\">\n",
       "      <th></th>\n",
       "      <th>Average Salary</th>\n",
       "    </tr>\n",
       "    <tr>\n",
       "      <th>Title</th>\n",
       "      <th></th>\n",
       "    </tr>\n",
       "  </thead>\n",
       "  <tbody>\n",
       "    <tr>\n",
       "      <th>Senior Engineer</th>\n",
       "      <td>48502.66</td>\n",
       "    </tr>\n",
       "    <tr>\n",
       "      <th>Engineer</th>\n",
       "      <td>48522.08</td>\n",
       "    </tr>\n",
       "    <tr>\n",
       "      <th>Staff</th>\n",
       "      <td>58465.58</td>\n",
       "    </tr>\n",
       "    <tr>\n",
       "      <th>Technique Leader</th>\n",
       "      <td>48589.43</td>\n",
       "    </tr>\n",
       "    <tr>\n",
       "      <th>Assistant Engineer</th>\n",
       "      <td>48531.52</td>\n",
       "    </tr>\n",
       "    <tr>\n",
       "      <th>Senior Staff</th>\n",
       "      <td>58481.88</td>\n",
       "    </tr>\n",
       "    <tr>\n",
       "      <th>Manager</th>\n",
       "      <td>51531.04</td>\n",
       "    </tr>\n",
       "  </tbody>\n",
       "</table>\n",
       "</div>"
      ],
      "text/plain": [
       "                    Average Salary\n",
       "Title                             \n",
       "Senior Engineer           48502.66\n",
       "Engineer                  48522.08\n",
       "Staff                     58465.58\n",
       "Technique Leader          48589.43\n",
       "Assistant Engineer        48531.52\n",
       "Senior Staff              58481.88\n",
       "Manager                   51531.04"
      ]
     },
     "execution_count": 69,
     "metadata": {},
     "output_type": "execute_result"
    }
   ],
   "source": [
    "Group_Title=ByTitle.Title.unique()\n",
    "i=0\n",
    "data=[]\n",
    "for title in Group_Title:\n",
    "    Salary_Mean=round(ByTitle[ByTitle[\"Title\"] == title].Salary.astype(int).mean(),2)\n",
    "    data.append(Salary_Mean)\n",
    "    if (i==0):\n",
    "        Analysis2=pd.DataFrame({\"Title\": title,\"Average Salary\" : [Salary_Mean]}).set_index('Title')\n",
    "    else:\n",
    "        df=pd.DataFrame({\"Title\": title,\"Average Salary\" : [Salary_Mean]}).set_index('Title')\n",
    "        Analysis2=Analysis2.append(df)\n",
    "    i=i+1\n",
    "Analysis2"
   ]
  },
  {
   "cell_type": "code",
   "execution_count": null,
   "metadata": {},
   "outputs": [],
   "source": [
    "columns=Group_Title\n",
    "n_rows = len(data)\n",
    "rows = ['%d dollars' % x for x in (100, 50, 20, 10, 5)]\n",
    "plt.figure(figsize=(20,5))\n",
    "plt.bar(Analysis2.index,Analysis2[\"Average Salary\"],color='red', edgecolor='black', hatch=\"/\")\n",
    "plt.ylabel(\"Average Salary\")\n",
    "plt.title('Average Salary across Jobs')\n",
    "plt.show()"
   ]
  },
  {
   "cell_type": "code",
   "execution_count": null,
   "metadata": {},
   "outputs": [],
   "source": []
  }
 ],
 "metadata": {
  "kernelspec": {
   "display_name": "Python 3",
   "language": "python",
   "name": "python3"
  },
  "language_info": {
   "codemirror_mode": {
    "name": "ipython",
    "version": 3
   },
   "file_extension": ".py",
   "mimetype": "text/x-python",
   "name": "python",
   "nbconvert_exporter": "python",
   "pygments_lexer": "ipython3",
   "version": "3.7.4"
  }
 },
 "nbformat": 4,
 "nbformat_minor": 4
}
